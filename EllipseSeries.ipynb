{
 "cells": [
  {
   "cell_type": "code",
   "execution_count": 1,
   "metadata": {
    "collapsed": true
   },
   "outputs": [],
   "source": [
    "# Bullshit with matplotlib\n",
    "import matplotlib\n",
    "matplotlib.use('qt4agg')\n",
    "import matplotlib.pyplot as plt\n",
    "\n",
    "import numpy as np\n",
    "from numpy import array, diag, sqrt, eye\n",
    "from numpy.linalg import inv, eig, det\n",
    "from scipy.linalg import sqrtm\n",
    "import LinearSfeFunctions as sfe"
   ]
  },
  {
   "cell_type": "code",
   "execution_count": 2,
   "metadata": {
    "collapsed": true
   },
   "outputs": [],
   "source": [
    "def CostEllipse(C,ax):\n",
    "    t_range = np.linspace(-np.pi,np.pi,77)\n",
    "    circle = np.array([np.cos(t_range),np.sin(t_range)])\n",
    "    ellipse = inv(sqrtm(C)) @ circle\n",
    "    ax.plot(ellipse[0],ellipse[1])\n",
    "    ax.set_aspect('equal')"
   ]
  },
  {
   "cell_type": "code",
   "execution_count": 3,
   "metadata": {
    "collapsed": false
   },
   "outputs": [],
   "source": [
    "def PlotEllipses(C,D,n,ax=None):\n",
    "    if ax == None:\n",
    "        fig, ax = plt.subplots()\n",
    "    K = sfe.SymmetricLinearSFE(C,D,n)\n",
    "    #TwoCostContours(C,inv(K),ax)\n",
    "    CostEllipse(C,ax)\n",
    "    CostEllipse(inv(K),ax)\n",
    "    CostEllipse(inv(D),ax)\n",
    "    plt.show()"
   ]
  },
  {
   "cell_type": "code",
   "execution_count": 5,
   "metadata": {
    "collapsed": false
   },
   "outputs": [
    {
     "name": "stdout",
     "output_type": "stream",
     "text": [
      "[[ 0.60774803 -0.3640075 ]\n",
      " [ 1.04595675  1.74633259]]\n"
     ]
    }
   ],
   "source": [
    "def ShowMatrix(M,ax):\n",
    "    CostEllipse(M,ax)\n",
    "    e,E = eig(M)\n",
    "    v = diag(1/sqrt(e)) @ E\n",
    "    print(v)\n",
    "    for i in range(2):\n",
    "        x = [v[i,0], -v[i,0]]\n",
    "        y = [-v[i,1], v[i,1]]\n",
    "        ax.plot(x,y,'k--')\n",
    "\n",
    "C = sfe.RandomPosDef()\n",
    "fig, ax = plt.subplots()\n",
    "ShowMatrix(C,ax)\n",
    "plt.show()"
   ]
  },
  {
   "cell_type": "code",
   "execution_count": 6,
   "metadata": {
    "collapsed": true
   },
   "outputs": [],
   "source": [
    "def ShowMatrices(C,D,n,ax=None):\n",
    "    if ax == None:\n",
    "        fig, ax = plt.subplots()\n",
    "    K = sfe.SymmetricLinearSFE(C,D,n)\n",
    "    #TwoCostContours(C,inv(K),ax)\n",
    "    ShowMatrix(C,ax)\n",
    "    ShowMatrix(inv(K),ax)\n",
    "    ShowMatrix(inv(D),ax)\n",
    "    plt.show()"
   ]
  },
  {
   "cell_type": "code",
   "execution_count": 7,
   "metadata": {
    "collapsed": false
   },
   "outputs": [],
   "source": [
    "def PlotColumns(M,ax):\n",
    "    # Plots the column vectors of 2xn matrix M on the axis ax\n",
    "    for i in range(M.shape[1]):\n",
    "        x = [0, M[i,0]]\n",
    "        y = [0, M[i,1]]\n",
    "        ax.plot(x,y)"
   ]
  },
  {
   "cell_type": "code",
   "execution_count": 13,
   "metadata": {
    "collapsed": false
   },
   "outputs": [
    {
     "name": "stdout",
     "output_type": "stream",
     "text": [
      "[[ 1.  0.]\n",
      " [ 0.  1.]]\n",
      "[[ 0.79641191  0.        ]\n",
      " [ 0.          0.79641191]]\n",
      "[[ 1.04880885  0.        ]\n",
      " [ 0.          1.04880885]]\n"
     ]
    }
   ],
   "source": [
    "# eyes\n",
    "C = eye(2)\n",
    "D = 1.1*eye(2)\n",
    "ShowMatrices(C,D,2)"
   ]
  },
  {
   "cell_type": "code",
   "execution_count": 15,
   "metadata": {
    "collapsed": false
   },
   "outputs": [
    {
     "name": "stdout",
     "output_type": "stream",
     "text": [
      "[[ 0.70710678  0.        ]\n",
      " [ 0.          1.        ]]\n",
      "[[ 0.60500033  0.        ]\n",
      " [ 0.          0.88954362]]\n",
      "[[ 1.          0.        ]\n",
      " [ 0.          1.73205081]]\n"
     ]
    }
   ],
   "source": [
    "# Independent goods\n",
    "\n",
    "C = array([[2.0,0.0],[0.0,1.0]])\n",
    "D = array([[1.0,0.0],[0.0,3.0]])\n",
    "#fig, ax = plt.subplots()\n",
    "#PlotEllipses(C,D,2,ax)\n",
    "#PlotColumns(C,ax)\n",
    "ShowMatrices(C,D,2)"
   ]
  },
  {
   "cell_type": "code",
   "execution_count": 21,
   "metadata": {
    "collapsed": false
   },
   "outputs": [
    {
     "name": "stdout",
     "output_type": "stream",
     "text": [
      "[[ 0.70710678  0.        ]\n",
      " [ 0.          1.        ]]\n",
      "[[ 0.51166727  0.12078826]\n",
      " [-0.19543951  0.82789504]]\n",
      "[[ 0.70710678  0.29289322]\n",
      " [-0.70710678  1.70710678]]\n"
     ]
    }
   ],
   "source": [
    "# Independent Costs; complements\n",
    "\n",
    "C = array([[2.0,0.0],[0.0,1.0]])\n",
    "D = array([[1.0,1.0],[1.0,3.0]])\n",
    "ShowMatrices(C,D,1)\n",
    "#PlotEllipses(C,D,3)\n",
    "#PlotEllipses(C,D,7)"
   ]
  },
  {
   "cell_type": "code",
   "execution_count": 19,
   "metadata": {
    "collapsed": false
   },
   "outputs": [
    {
     "name": "stdout",
     "output_type": "stream",
     "text": [
      "[[ 0.70710678  0.        ]\n",
      " [ 0.          1.        ]]\n",
      "[[ 0.56898756 -0.09372226]\n",
      " [ 0.14260322  0.86574374]]\n",
      "[[ 0.70710678 -0.29289322]\n",
      " [ 0.70710678  1.70710678]]\n"
     ]
    }
   ],
   "source": [
    "# Independent Costs; substitutes\n",
    "\n",
    "C = array([[2.0,0.0],[0.0,1.0]])\n",
    "D = array([[1.0,-1.0],[-1.0,3.0]])\n",
    "PlotEllipses(C,D,2)\n",
    "ShowMatrices(C,D,2)"
   ]
  },
  {
   "cell_type": "code",
   "execution_count": 20,
   "metadata": {
    "collapsed": false
   },
   "outputs": [],
   "source": [
    "# Independent Demand; economies of scope\n",
    "C = array([[2.0,-1.0],[-1.0,1.0]])\n",
    "D = array([[1.0,0.0],[0.0,3.0]])\n",
    "fig, ax = plt.subplots()\n",
    "PlotEllipses(C,D,2,ax)\n",
    "e,E = eig(C)\n",
    "X = sfe.DiagonalizingBasis(inv(C),D)\n",
    "PlotColumns(inv(X),ax)"
   ]
  },
  {
   "cell_type": "code",
   "execution_count": 46,
   "metadata": {
    "collapsed": false
   },
   "outputs": [
    {
     "data": {
      "text/plain": [
       "array([[  6.97224362e-01,   5.55111512e-16],\n",
       "       [  8.88178420e-16,   4.30277564e+00]])"
      ]
     },
     "execution_count": 46,
     "metadata": {},
     "output_type": "execute_result"
    }
   ],
   "source": [
    "X @ D @ np.transpose(X)\n",
    "inv(np.transpose(X)) @ C @ inv(X)"
   ]
  },
  {
   "cell_type": "code",
   "execution_count": 17,
   "metadata": {
    "collapsed": true
   },
   "outputs": [],
   "source": [
    "# Independent Demand; diseconomies of scope\n",
    "C = array([[2.0,1.0],[1.0,1.0]])\n",
    "D = array([[1.0,0.0],[0.0,3.0]])\n",
    "PlotEllipses(C,D,2)"
   ]
  }
 ],
 "metadata": {
  "kernelspec": {
   "display_name": "Python 3",
   "language": "python",
   "name": "python3"
  },
  "language_info": {
   "codemirror_mode": {
    "name": "ipython",
    "version": 3
   },
   "file_extension": ".py",
   "mimetype": "text/x-python",
   "name": "python",
   "nbconvert_exporter": "python",
   "pygments_lexer": "ipython3",
   "version": "3.5.4"
  }
 },
 "nbformat": 4,
 "nbformat_minor": 2
}
